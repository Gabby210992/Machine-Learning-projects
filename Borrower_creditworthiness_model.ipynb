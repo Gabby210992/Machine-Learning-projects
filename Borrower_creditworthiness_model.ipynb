{
 "cells": [
  {
   "cell_type": "markdown",
   "id": "d7301c83",
   "metadata": {},
   "source": [
    "# A machine Learning Model to Predict the CreditWorthiness of Borrowers"
   ]
  },
  {
   "cell_type": "code",
   "execution_count": 35,
   "id": "03083a4b-ee3b-4883-9ec5-65e87fd1e644",
   "metadata": {},
   "outputs": [],
   "source": [
    "# Importing the necessary Libraries\n",
    "import pandas as pd\n",
    "import numpy as np\n",
    "import matplotlib.pyplot as plt\n",
    "import seaborn as sns\n",
    "from sklearn.preprocessing import StandardScaler, PolynomialFeatures\n",
    "from sklearn.linear_model import LogisticRegression, Ridge\n",
    "from sklearn.model_selection import train_test_split, cross_val_score\n",
    "from sklearn.pipeline import Pipeline\n",
    "from sklearn.metrics import confusion_matrix, f1_score, classification_report"
   ]
  },
  {
   "cell_type": "code",
   "execution_count": 2,
   "id": "870d46d0-0632-4c51-9072-e4782f526e52",
   "metadata": {},
   "outputs": [],
   "source": [
    "# We get our file path\n",
    "file_path = r\"C:\\Users\\GABRIEL\\Desktop\\DataSet\\Loan Data Train.csv\""
   ]
  },
  {
   "cell_type": "code",
   "execution_count": 3,
   "id": "199304cf-52ee-4715-9618-8675d3e6713d",
   "metadata": {},
   "outputs": [],
   "source": [
    "# Load the CSV data \n",
    "data = pd.read_csv(file_path)\n",
    "df = pd.DataFrame(data) # Convert the data to dataframe"
   ]
  },
  {
   "cell_type": "code",
   "execution_count": 4,
   "id": "293d332c-8b6f-4708-b948-3ae7c5c0c918",
   "metadata": {},
   "outputs": [
    {
     "name": "stdout",
     "output_type": "stream",
     "text": [
      "int64\n",
      "object\n",
      "int64\n",
      "int64\n",
      "object\n",
      "int64\n",
      "int64\n",
      "int64\n",
      "float64\n",
      "int64\n",
      "int64\n",
      "int64\n",
      "int64\n",
      "int64\n",
      "int64\n"
     ]
    },
    {
     "data": {
      "text/html": [
       "<div>\n",
       "<style scoped>\n",
       "    .dataframe tbody tr th:only-of-type {\n",
       "        vertical-align: middle;\n",
       "    }\n",
       "\n",
       "    .dataframe tbody tr th {\n",
       "        vertical-align: top;\n",
       "    }\n",
       "\n",
       "    .dataframe thead th {\n",
       "        text-align: right;\n",
       "    }\n",
       "</style>\n",
       "<table border=\"1\" class=\"dataframe\">\n",
       "  <thead>\n",
       "    <tr style=\"text-align: right;\">\n",
       "      <th></th>\n",
       "      <th>ID</th>\n",
       "      <th>Loan_ID</th>\n",
       "      <th>Gender</th>\n",
       "      <th>Married</th>\n",
       "      <th>Dependents</th>\n",
       "      <th>Education</th>\n",
       "      <th>Self_Employed</th>\n",
       "      <th>ApplicantIncome</th>\n",
       "      <th>CoapplicantIncome</th>\n",
       "      <th>LoanAmount</th>\n",
       "      <th>Loan_Amount_Term</th>\n",
       "      <th>Credit_History</th>\n",
       "      <th>Property_Area</th>\n",
       "      <th>Loan_Status</th>\n",
       "      <th>Total_Income</th>\n",
       "    </tr>\n",
       "  </thead>\n",
       "  <tbody>\n",
       "    <tr>\n",
       "      <th>0</th>\n",
       "      <td>74768</td>\n",
       "      <td>LP002231</td>\n",
       "      <td>1</td>\n",
       "      <td>1</td>\n",
       "      <td>0</td>\n",
       "      <td>1</td>\n",
       "      <td>0</td>\n",
       "      <td>8328</td>\n",
       "      <td>0.000000</td>\n",
       "      <td>17</td>\n",
       "      <td>363</td>\n",
       "      <td>1</td>\n",
       "      <td>2</td>\n",
       "      <td>1</td>\n",
       "      <td>6000</td>\n",
       "    </tr>\n",
       "    <tr>\n",
       "      <th>1</th>\n",
       "      <td>79428</td>\n",
       "      <td>LP001448</td>\n",
       "      <td>1</td>\n",
       "      <td>1</td>\n",
       "      <td>0</td>\n",
       "      <td>0</td>\n",
       "      <td>0</td>\n",
       "      <td>150</td>\n",
       "      <td>3857.458782</td>\n",
       "      <td>188</td>\n",
       "      <td>370</td>\n",
       "      <td>1</td>\n",
       "      <td>1</td>\n",
       "      <td>0</td>\n",
       "      <td>6000</td>\n",
       "    </tr>\n",
       "    <tr>\n",
       "      <th>2</th>\n",
       "      <td>70497</td>\n",
       "      <td>LP002231</td>\n",
       "      <td>0</td>\n",
       "      <td>0</td>\n",
       "      <td>0</td>\n",
       "      <td>0</td>\n",
       "      <td>0</td>\n",
       "      <td>4989</td>\n",
       "      <td>314.472511</td>\n",
       "      <td>17</td>\n",
       "      <td>348</td>\n",
       "      <td>1</td>\n",
       "      <td>0</td>\n",
       "      <td>0</td>\n",
       "      <td>6000</td>\n",
       "    </tr>\n",
       "    <tr>\n",
       "      <th>3</th>\n",
       "      <td>87480</td>\n",
       "      <td>LP001385</td>\n",
       "      <td>1</td>\n",
       "      <td>1</td>\n",
       "      <td>0</td>\n",
       "      <td>0</td>\n",
       "      <td>0</td>\n",
       "      <td>150</td>\n",
       "      <td>0.000000</td>\n",
       "      <td>232</td>\n",
       "      <td>359</td>\n",
       "      <td>1</td>\n",
       "      <td>1</td>\n",
       "      <td>1</td>\n",
       "      <td>3750</td>\n",
       "    </tr>\n",
       "    <tr>\n",
       "      <th>4</th>\n",
       "      <td>33964</td>\n",
       "      <td>LP002231</td>\n",
       "      <td>1</td>\n",
       "      <td>1</td>\n",
       "      <td>1</td>\n",
       "      <td>0</td>\n",
       "      <td>0</td>\n",
       "      <td>8059</td>\n",
       "      <td>0.000000</td>\n",
       "      <td>17</td>\n",
       "      <td>372</td>\n",
       "      <td>1</td>\n",
       "      <td>0</td>\n",
       "      <td>1</td>\n",
       "      <td>3750</td>\n",
       "    </tr>\n",
       "  </tbody>\n",
       "</table>\n",
       "</div>"
      ],
      "text/plain": [
       "      ID   Loan_ID  Gender  Married Dependents  Education  Self_Employed  \\\n",
       "0  74768  LP002231       1        1          0          1              0   \n",
       "1  79428  LP001448       1        1          0          0              0   \n",
       "2  70497  LP002231       0        0          0          0              0   \n",
       "3  87480  LP001385       1        1          0          0              0   \n",
       "4  33964  LP002231       1        1          1          0              0   \n",
       "\n",
       "   ApplicantIncome  CoapplicantIncome  LoanAmount  Loan_Amount_Term  \\\n",
       "0             8328           0.000000          17               363   \n",
       "1              150        3857.458782         188               370   \n",
       "2             4989         314.472511          17               348   \n",
       "3              150           0.000000         232               359   \n",
       "4             8059           0.000000          17               372   \n",
       "\n",
       "   Credit_History  Property_Area  Loan_Status  Total_Income  \n",
       "0               1              2            1          6000  \n",
       "1               1              1            0          6000  \n",
       "2               1              0            0          6000  \n",
       "3               1              1            1          3750  \n",
       "4               1              0            1          3750  "
      ]
     },
     "metadata": {},
     "output_type": "display_data"
    }
   ],
   "source": [
    "# Display the first 5 rows of the data\n",
    "for column in df.columns:\n",
    "    print(df[column].dtypes)\n",
    "\n",
    "display(df.head())"
   ]
  },
  {
   "cell_type": "markdown",
   "id": "8e198f6f-2aea-4abf-820b-6dbfacded51a",
   "metadata": {},
   "source": [
    "### We will try to answer the questions\n",
    "- The goal of this project is to identify individuals who are most likely \n",
    "- to repay loans while reducing the risk for financial institutions. \n",
    "- You will be judged on your model’s ability to make accurate predictions, \n",
    "- approach to feature engineering, and how well you handle the trade-off \n",
    "- between precision and recall."
   ]
  },
  {
   "cell_type": "markdown",
   "id": "3b2893a8",
   "metadata": {},
   "source": [
    "We will drop the columns that are not needed for our analysis, ID and Loan_ID"
   ]
  },
  {
   "cell_type": "code",
   "execution_count": 5,
   "id": "5df72a47",
   "metadata": {},
   "outputs": [],
   "source": [
    "df.drop(['Loan_ID', 'ID'], axis=1, inplace=True)"
   ]
  },
  {
   "cell_type": "code",
   "execution_count": 7,
   "id": "bb3e4223",
   "metadata": {},
   "outputs": [
    {
     "name": "stdout",
     "output_type": "stream",
     "text": [
      "<class 'pandas.core.frame.DataFrame'>\n",
      "RangeIndex: 5898 entries, 0 to 5897\n",
      "Data columns (total 13 columns):\n",
      " #   Column             Non-Null Count  Dtype  \n",
      "---  ------             --------------  -----  \n",
      " 0   Gender             5898 non-null   int64  \n",
      " 1   Married            5898 non-null   int64  \n",
      " 2   Dependents         5898 non-null   object \n",
      " 3   Education          5898 non-null   int64  \n",
      " 4   Self_Employed      5898 non-null   int64  \n",
      " 5   ApplicantIncome    5898 non-null   int64  \n",
      " 6   CoapplicantIncome  5898 non-null   float64\n",
      " 7   LoanAmount         5898 non-null   int64  \n",
      " 8   Loan_Amount_Term   5898 non-null   int64  \n",
      " 9   Credit_History     5898 non-null   int64  \n",
      " 10  Property_Area      5898 non-null   int64  \n",
      " 11  Loan_Status        5898 non-null   int64  \n",
      " 12  Total_Income       5898 non-null   int64  \n",
      "dtypes: float64(1), int64(11), object(1)\n",
      "memory usage: 599.1+ KB\n",
      "None\n"
     ]
    }
   ],
   "source": [
    "# We will explore the data to see the relationship between the features and the target variable\n",
    "# We will also check for missing values in the data\n",
    "print(df.info())"
   ]
  },
  {
   "cell_type": "code",
   "execution_count": 15,
   "id": "a561e17d",
   "metadata": {},
   "outputs": [
    {
     "data": {
      "text/plain": [
       "array(['0', '1', '3+', '2'], dtype=object)"
      ]
     },
     "execution_count": 15,
     "metadata": {},
     "output_type": "execute_result"
    }
   ],
   "source": [
    "# The Dependents column seems to have a floating point value, we will convert it to an integer\n",
    "df[\"Dependents\"].unique()"
   ]
  },
  {
   "cell_type": "markdown",
   "id": "3ccab3d0",
   "metadata": {},
   "source": [
    "Clearly, the Dependents column has a value 3+ which is considered as object. We will convert it to integer"
   ]
  },
  {
   "cell_type": "code",
   "execution_count": 17,
   "id": "03a44127",
   "metadata": {},
   "outputs": [],
   "source": [
    "# We will replace the '+' sign in the Dependents column\n",
    "df[\"Dependents\"].replace(to_replace='3+', value=3, inplace=True)"
   ]
  },
  {
   "cell_type": "code",
   "execution_count": 8,
   "id": "ddebc433",
   "metadata": {},
   "outputs": [
    {
     "name": "stdout",
     "output_type": "stream",
     "text": [
      "            Gender      Married    Education  Self_Employed  ApplicantIncome  \\\n",
      "count  5898.000000  5898.000000  5898.000000    5898.000000      5898.000000   \n",
      "mean      0.910817     0.854527     0.120210       0.107664      7782.026958   \n",
      "std       0.285032     0.352607     0.325235       0.309981      9182.571831   \n",
      "min       0.000000     0.000000     0.000000       0.000000       150.000000   \n",
      "25%       1.000000     1.000000     0.000000       0.000000      2342.250000   \n",
      "50%       1.000000     1.000000     0.000000       0.000000      6989.000000   \n",
      "75%       1.000000     1.000000     0.000000       0.000000      8375.000000   \n",
      "max       1.000000     1.000000     1.000000       1.000000     81000.000000   \n",
      "\n",
      "       CoapplicantIncome   LoanAmount  Loan_Amount_Term  Credit_History  \\\n",
      "count        5898.000000  5898.000000       5898.000000     5898.000000   \n",
      "mean         1245.954548    97.410478        359.114954        0.920482   \n",
      "std          2368.012349   103.483478         48.876088        0.270569   \n",
      "min             0.000000    17.000000         12.000000        0.000000   \n",
      "25%             0.000000    17.000000        357.000000        1.000000   \n",
      "50%           117.562275    42.000000        368.000000        1.000000   \n",
      "75%          1680.894542   174.000000        372.000000        1.000000   \n",
      "max         20000.000000   700.000000        480.000000        1.000000   \n",
      "\n",
      "       Property_Area  Loan_Status  Total_Income  \n",
      "count    5898.000000  5898.000000   5898.000000  \n",
      "mean        1.183961     0.832994   5239.284503  \n",
      "std         0.730568     0.373013   2308.679455  \n",
      "min         0.000000     0.000000   1963.000000  \n",
      "25%         1.000000     1.000000   3750.000000  \n",
      "50%         1.000000     1.000000   6000.000000  \n",
      "75%         2.000000     1.000000   6000.000000  \n",
      "max         2.000000     1.000000  22500.000000  \n"
     ]
    }
   ],
   "source": [
    "print(df.describe())"
   ]
  },
  {
   "cell_type": "code",
   "execution_count": 9,
   "id": "62e5dc80",
   "metadata": {},
   "outputs": [
    {
     "data": {
      "text/plain": [
       "Gender               0\n",
       "Married              0\n",
       "Dependents           0\n",
       "Education            0\n",
       "Self_Employed        0\n",
       "ApplicantIncome      0\n",
       "CoapplicantIncome    0\n",
       "LoanAmount           0\n",
       "Loan_Amount_Term     0\n",
       "Credit_History       0\n",
       "Property_Area        0\n",
       "Loan_Status          0\n",
       "Total_Income         0\n",
       "dtype: int64"
      ]
     },
     "execution_count": 9,
     "metadata": {},
     "output_type": "execute_result"
    }
   ],
   "source": [
    "# Check for missing values\n",
    "df.isnull().sum()"
   ]
  },
  {
   "cell_type": "code",
   "execution_count": 19,
   "id": "66b7e8bb-aec6-43f6-a287-7c23e2bc7630",
   "metadata": {},
   "outputs": [
    {
     "data": {
      "text/plain": [
       "Loan_Status          1.000000\n",
       "Property_Area        0.026883\n",
       "LoanAmount           0.014613\n",
       "Loan_Amount_Term     0.008299\n",
       "Self_Employed        0.005938\n",
       "Credit_History       0.001133\n",
       "Gender              -0.004538\n",
       "Total_Income        -0.004700\n",
       "CoapplicantIncome   -0.007058\n",
       "Married             -0.008111\n",
       "ApplicantIncome     -0.009189\n",
       "Education           -0.010613\n",
       "Dependents          -0.021859\n",
       "Name: Loan_Status, dtype: float64"
      ]
     },
     "execution_count": 19,
     "metadata": {},
     "output_type": "execute_result"
    }
   ],
   "source": [
    "# We will check for the correlation between the features and the target variable\n",
    "corr = df.corr()['Loan_Status'].sort_values(ascending=False)\n",
    "corr"
   ]
  },
  {
   "cell_type": "markdown",
   "id": "e4ddcc3c",
   "metadata": {},
   "source": [
    "There is little or no correlation between the target variables and the features suggesting linear model may not be the best fit for our data; we will use polynomial features"
   ]
  },
  {
   "cell_type": "code",
   "execution_count": 23,
   "id": "c38c5c9c",
   "metadata": {},
   "outputs": [],
   "source": [
    "# Split the data into features and target variable\n",
    "X = df.drop('Loan_Status', axis=1)\n",
    "y = df['Loan_Status']\n",
    "X_train, X_test, y_train, y_test = train_test_split(X, y, test_size=0.3, random_state=42)"
   ]
  },
  {
   "cell_type": "code",
   "execution_count": 29,
   "id": "0fa19188",
   "metadata": {},
   "outputs": [
    {
     "name": "stdout",
     "output_type": "stream",
     "text": [
      "Confusion Matrix:  [[   0  294]\n",
      " [   0 1476]]\n",
      "F1 score:  0.9094269870609981\n"
     ]
    }
   ],
   "source": [
    "# We predict the target variable using income and loan amount\n",
    "x1 = df[[\"ApplicantIncome\", \"LoanAmount\"]]\n",
    "y1 = df[\"Loan_Status\"]\n",
    "\n",
    "x1_train, x1_test, y1_train, y1_test = train_test_split(x1, y1, test_size=0.3, random_state=42)\n",
    "\n",
    "# We will scale the data\n",
    "scaler1 = StandardScaler()\n",
    "x1_train_scaled = scaler1.fit_transform(x1_train)\n",
    "x1_test_scaled = scaler1.transform(x1_test)\n",
    "\n",
    "# creating a polynomial feature object\n",
    "poly = PolynomialFeatures(degree=2)\n",
    "x1_train_poly = poly.fit_transform(x1_train_scaled)\n",
    "x1_test_poly = poly.transform(x1_test_scaled)\n",
    "\n",
    "# We will create a logistic regression model\n",
    "model1 = LogisticRegression()\n",
    "mod_fit = model1.fit(x1_train_poly, y1_train)\n",
    "y1_pred = mod_fit.predict(x1_test_poly)\n",
    "\n",
    "# We will evaluate the model\n",
    "conf_matrx = confusion_matrix(y1_test, y1_pred)\n",
    "f1 = f1_score(y1_test, y1_pred)\n",
    "print(\"Confusion Matrix: \", conf_matrx)\n",
    "print(\"F1 score: \", f1)"
   ]
  },
  {
   "cell_type": "code",
   "execution_count": 30,
   "id": "bf23f0ef-3e98-42bc-86f1-d3deb55f19a9",
   "metadata": {},
   "outputs": [
    {
     "name": "stdout",
     "output_type": "stream",
     "text": [
      "Confusion Matrix:  [[   1  293]\n",
      " [   1 1475]]\n",
      "F1 score:  0.9093711467324291\n"
     ]
    }
   ],
   "source": [
    "# Create a scaler object and convert the features to a scaled version\n",
    "scaler = StandardScaler()\n",
    "X_train_scaled = scaler.fit_transform(X_train)\n",
    "X_test_scaled = scaler.fit_transform(X_test)\n",
    "\n",
    "\n",
    "# Create a polynomial object and convert the features to a polynomial version\n",
    "poly = PolynomialFeatures(degree=2)\n",
    "X_train_poly = poly.fit_transform(X_train_scaled)\n",
    "X_test_poly = poly.fit_transform(X_test_scaled)\n",
    "\n",
    "\n",
    "# Create a logistic regression object\n",
    "model = LogisticRegression()\n",
    "model.fit(X_train_poly, y_train)\n",
    "y_pred = model.predict(X_test_poly)\n",
    "\n",
    "# Evaluate the model\n",
    "conf_matrix = confusion_matrix(y_test, y_pred)\n",
    "score = f1_score(y_test, y_pred)\n",
    "print(\"Confusion Matrix: \", conf_matrix)\n",
    "print(\"F1 score: \", score)"
   ]
  },
  {
   "cell_type": "markdown",
   "id": "d690c35b-0665-4c06-9d66-9be1b32fc26c",
   "metadata": {},
   "source": [
    "We further evaluate the model using other metrics"
   ]
  },
  {
   "cell_type": "code",
   "execution_count": 31,
   "id": "065fd890-2341-4e28-8aa3-1b1978598400",
   "metadata": {},
   "outputs": [
    {
     "name": "stdout",
     "output_type": "stream",
     "text": [
      "Precision: 0.8342760180995475, Recall: 0.9993224932249323\n"
     ]
    }
   ],
   "source": [
    "# Evaluate the model using metrics\n",
    "from sklearn.metrics import precision_score, recall_score\n",
    "precision = precision_score(y_test, y_pred)\n",
    "recall = recall_score(y_test, y_pred)\n",
    "print(f\"Precision: {precision}, Recall: {recall}\")"
   ]
  },
  {
   "cell_type": "markdown",
   "id": "518f3d44-55fa-4ae5-aded-3eca42e944b6",
   "metadata": {},
   "source": [
    "We use cross validation to get a best estimate of our model's performance"
   ]
  },
  {
   "cell_type": "code",
   "execution_count": 34,
   "id": "2ed91789-a807-490d-b2ee-3f2ca2bfabfd",
   "metadata": {},
   "outputs": [
    {
     "name": "stdout",
     "output_type": "stream",
     "text": [
      "Cross Validation Score:  [0.90656064 0.91005291 0.90656064 0.90656064 0.90703851]\n",
      "Cross Validation Mean Score:  0.9073546662435639\n",
      "Cross Validation Standard Deviation:  0.001361757980146991\n"
     ]
    }
   ],
   "source": [
    "# we will create a cross validation object\n",
    "cross_val = cross_val_score(model, X_train_poly, y_train, cv=5, scoring='f1')\n",
    "print(\"Cross Validation Score: \", cross_val)\n",
    "print(\"Cross Validation Mean Score: \", cross_val.mean())\n",
    "print(\"Cross Validation Standard Deviation: \", cross_val.std())\n"
   ]
  },
  {
   "cell_type": "code",
   "execution_count": 36,
   "id": "3692b9a5-3e99-4846-93f2-2e3bc7f92ccc",
   "metadata": {},
   "outputs": [
    {
     "name": "stdout",
     "output_type": "stream",
     "text": [
      "Predicted positive class (1) count: 1768\n",
      "Predicted negative class (0) count: 2\n",
      "              precision    recall  f1-score   support\n",
      "\n",
      "           0       0.50      0.00      0.01       294\n",
      "           1       0.83      1.00      0.91      1476\n",
      "\n",
      "    accuracy                           0.83      1770\n",
      "   macro avg       0.67      0.50      0.46      1770\n",
      "weighted avg       0.78      0.83      0.76      1770\n",
      "\n"
     ]
    }
   ],
   "source": [
    "# Adjust the threshold to 0.5 or a lower value to get more predictions for both classes\n",
    "threshold = 0.5\n",
    "y_pred_proba = model.predict_proba(X_test_poly)[:, 1]  # Probabilities for the positive class (1)\n",
    "y_pred_adjusted = (y_pred_proba >= threshold).astype(int)\n",
    "\n",
    "# Inspect the class distribution of predictions\n",
    "print(f\"Predicted positive class (1) count: {sum(y_pred_adjusted == 1)}\")\n",
    "print(f\"Predicted negative class (0) count: {sum(y_pred_adjusted == 0)}\")\n",
    "\n",
    "# print the classification report\n",
    "print(classification_report(y_test, y_pred_adjusted, zero_division=1))"
   ]
  },
  {
   "cell_type": "code",
   "execution_count": 38,
   "id": "618ed94a-13ff-440e-9480-6400a608fd7a",
   "metadata": {},
   "outputs": [
    {
     "data": {
      "image/png": "[encoded data removed]",
      "text/plain": [
       "<Figure size 800x630 with 2 Axes>"
      ]
     },
     "metadata": {},
     "output_type": "display_data"
    }
   ],
   "source": [
    "import shap\n",
    "\n",
    "explainer = shap.Explainer(model, X_train)\n",
    "shap_values = explainer(X_test)\n",
    "shap.summary_plot(shap_values, X_test)"
   ]
  },
  {
   "cell_type": "markdown",
   "id": "17c1f3a1",
   "metadata": {},
   "source": [
    "From the above chart, we see that Applicant's income, Total income, coapplicant income and loan amount are the most important features in predicting loan approval (Loan_Status). Further, a good income increases the chance of an applicant's loan approval, however the impact of applicant's income varies for different instances."
   ]
  },
  {
   "cell_type": "markdown",
   "id": "8a940eae-636f-4269-a92c-794b8dddacb9",
   "metadata": {},
   "source": [
    "### Saving model for reuse\n",
    "### Still in progress"
   ]
  },
  {
   "cell_type": "code",
   "execution_count": null,
   "id": "9b2a1131-bc8a-4290-b803-fd08c9d986e1",
   "metadata": {},
   "outputs": [
    {
     "data": {
      "text/plain": [
       "['creditworthiness_model.pkl']"
      ]
     },
     "execution_count": 37,
     "metadata": {},
     "output_type": "execute_result"
    }
   ],
   "source": [
    "# import joblib\n",
    "\n",
    "# joblib.dump(model, 'creditworthiness_model.pkl')"
   ]
  },
  {
   "cell_type": "markdown",
   "id": "4c60fa14-7119-4ed0-b698-3612d32dce1a",
   "metadata": {},
   "source": [
    "### Developing a Prediction Frame work like Flask\n",
    "### Still in progress ....."
   ]
  },
  {
   "cell_type": "code",
   "execution_count": null,
   "id": "d259ee9c-a6c3-4a27-8a1a-18c196780470",
   "metadata": {},
   "outputs": [],
   "source": [
    "# from flask import Flask, request, jsonify\n",
    "# import joblib\n",
    "\n",
    "# app = Flask(__name__)\n",
    "# model = joblib.load('creditworthiness_model.pkl')\n",
    "\n",
    "# @app.route('/predict', methods=['POST'])\n",
    "# def predict():\n",
    "#     data = request.json  # Input JSON data\n",
    "#     prediction = model.predict(data['features'])\n",
    "#     return jsonify({'prediction': int(prediction[0])})"
   ]
  },
  {
   "cell_type": "markdown",
   "id": "4726d599-87c0-4618-8e20-e28372a0336f",
   "metadata": {},
   "source": [
    "### Building an interface\n",
    "\n",
    "\n",
    "### Still in progress ......"
   ]
  },
  {
   "cell_type": "code",
   "execution_count": 40,
   "id": "0bbbb9ca-a2c1-4293-97c0-ec945cd6985f",
   "metadata": {},
   "outputs": [],
   "source": [
    "# import streamlit as st\n",
    "\n",
    "# st.title(\"Creditworthiness Prediction\")\n",
    "# loan_amount = st.number_input(\"Loan Amount\")\n",
    "# income = st.number_input(\"Applicant Income\")\n",
    "# # Add other inputs\n",
    "# if st.button(\"Predict\"):\n",
    "#     result = model.predict([[income, loan_amount]])\n",
    "#     st.write(f\"Prediction: {'Creditworthy' if result[0] == 1 else 'Not Creditworthy'}\")"
   ]
  },
  {
   "cell_type": "code",
   "execution_count": null,
   "id": "3c2cf893-f203-483d-9f1c-d72c8f386735",
   "metadata": {},
   "outputs": [],
   "source": []
  }
 ],
 "metadata": {
  "kernelspec": {
   "display_name": "Gabby",
   "language": "python",
   "name": "python3"
  },
  "language_info": {
   "codemirror_mode": {
    "name": "ipython",
    "version": 3
   },
   "file_extension": ".py",
   "mimetype": "text/x-python",
   "name": "python",
   "nbconvert_exporter": "python",
   "pygments_lexer": "ipython3",
   "version": "3.12.4"
  }
 },
 "nbformat": 4,
 "nbformat_minor": 5
}
